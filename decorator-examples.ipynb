{
 "cells": [
  {
   "cell_type": "markdown",
   "metadata": {},
   "source": [
    "# Problem\n",
    "You have a function f(a,b,c,d) and want to optimize for a subset of these four variables, say c and d.\n",
    "\n",
    "A suitable solution to this is to define a function f(c,d), in which a and b are not input arguments but instead are predetermined."
   ]
  },
  {
   "cell_type": "markdown",
   "metadata": {},
   "source": [
    "## Enter the decorator\n",
    "\n",
    "A decorator is a wrapper function that is passed an input function and returns a output function. Look here for more information: http://simeonfranklin.com/blog/2012/jul/1/python-decorators-in-12-steps/. Basically it wraps around the function that you pass to it.\n",
    "\n",
    "If you want the decorator itself to accept arguments, you add another function layer, three in total.\n",
    "\n",
    "### The decorator function below accepts:\n",
    "1. an input function\n",
    "2. a dictionary with static variables and their values\n",
    "The decorator returns the same function, but with the static variables removed from the input arguments.\n",
    "\n",
    "So if we pass the input function f(a,b,c,d) with static variables a=1 and b=2, the decorator will return f(c,d)."
   ]
  },
  {
   "cell_type": "code",
   "execution_count": 245,
   "metadata": {
    "collapsed": true
   },
   "outputs": [],
   "source": [
    "# decorator with arguments\n",
    "def decorator(static_variables):\n",
    "    def real_decorator(function):\n",
    "        def wrapper(**dynamic_variables):\n",
    "            # combine static and dynamic variables to a single dict, to be passed as keyword arguments to function.\n",
    "            all_variables = static_variables.copy()\n",
    "            all_variables.update(dynamic_variables)\n",
    "            return function(**all_variables)\n",
    "        return wrapper\n",
    "    return real_decorator"
   ]
  },
  {
   "cell_type": "markdown",
   "metadata": {},
   "source": [
    "Let's test it out:"
   ]
  },
  {
   "cell_type": "code",
   "execution_count": 246,
   "metadata": {
    "collapsed": false
   },
   "outputs": [
    {
     "name": "stdout",
     "output_type": "stream",
     "text": [
      "3\n",
      "113\n"
     ]
    }
   ],
   "source": [
    "def objective_function_a(a, b, c, d):\n",
    "    return a + b + c + d\n",
    "\n",
    "static_variables = {'a': 1, 'b': 2}\n",
    "\n",
    "func_passed_to_optimizer = decorator(static_variables)(objective_function_a)\n",
    "\n",
    "\n",
    "print func_passed_to_optimizer(**dynamic_variables)\n",
    "print func_passed_to_optimizer(c=10, d=100)"
   ]
  },
  {
   "cell_type": "markdown",
   "metadata": {},
   "source": [
    "## @ syntax\n",
    "Decorators can also attached to a function in the following way:"
   ]
  },
  {
   "cell_type": "code",
   "execution_count": 247,
   "metadata": {
    "collapsed": false
   },
   "outputs": [
    {
     "name": "stdout",
     "output_type": "stream",
     "text": [
      "104\n"
     ]
    }
   ],
   "source": [
    "static_variables = {'a': 1, 'b': 2}\n",
    "\n",
    "@decorator(static_variables)\n",
    "def objective_function_b(a, b, c, d):\n",
    "    return a + b + c + d\n",
    "\n",
    "print objective_function_b(c=1, d=100)"
   ]
  },
  {
   "cell_type": "markdown",
   "metadata": {},
   "source": [
    "## non-keyword arguments\n",
    "\n",
    "The function that is returned by the decorator above needs its arguments in keyword format, i.e. func(c=1, d=100). The following decorator takes non-keyword arguments, so you can call it like this: func(1, 100)."
   ]
  },
  {
   "cell_type": "code",
   "execution_count": 248,
   "metadata": {
    "collapsed": false
   },
   "outputs": [],
   "source": [
    "import inspect\n",
    "\n",
    "# decorator with arguments\n",
    "def decorator(static_variables):\n",
    "    def real_decorator(function):\n",
    "        print \"decorator received function '{}' \".format(function.__name__)\n",
    "        print \"with local variables: {}\".format(function.__code__.co_varnames)\n",
    "        print \"and arguments: {}\".format(inspect.getargspec(function).args)\n",
    "        function_argument_variable_names = inspect.getargspec(function).args\n",
    "        wrapper_dynamic_var_names = [name for name in function_argument_variable_names if name not in static_variables.keys()]\n",
    "        print \"Static variables are: {}\".format(static_variables.items())\n",
    "        print \"New input arguments for '{}': {}\".format(function.__name__, wrapper_dynamic_var_names)\n",
    "        def wrapper(*wrapper_dynamic_var_names):\n",
    "            # combine static and dynamic variables to a single dict, to be passed as keyword arguments to function.\n",
    "            all_variables = static_variables.copy()\n",
    "            all_variables.update(dynamic_variables)            \n",
    "            return function(**all_variables)\n",
    "        wrapper.__name__ = \"{}_primed\".format(function.__name__)\n",
    "        return wrapper\n",
    "    return real_decorator"
   ]
  },
  {
   "cell_type": "markdown",
   "metadata": {},
   "source": [
    "Testing time:"
   ]
  },
  {
   "cell_type": "code",
   "execution_count": 254,
   "metadata": {
    "collapsed": false
   },
   "outputs": [
    {
     "name": "stdout",
     "output_type": "stream",
     "text": [
      "decorator received function 'objective_function' \n",
      "with local variables: ('a', 'b', 'c', 'd', 'g')\n",
      "and arguments: ['a', 'b', 'c', 'd']\n",
      "Static variables are: [('a', 1), ('b', 2)]\n",
      "New input arguments for 'objective_function': ['c', 'd']\n",
      "function name: objective_function_primed\n",
      "3\n"
     ]
    }
   ],
   "source": [
    "def objective_function(a, b, c, d):\n",
    "    g=1\n",
    "    return a + b + c + d\n",
    "\n",
    "staticvars = {'a':1, 'b':2}\n",
    "\n",
    "func = decorator(staticvars)(objective_function)\n",
    "\n",
    "print \"function name: {}\".format(func.__name__)\n",
    "\n",
    "print func(2,2)"
   ]
  },
  {
   "cell_type": "markdown",
   "metadata": {},
   "source": [
    "Now with the more common @ syntax:"
   ]
  },
  {
   "cell_type": "code",
   "execution_count": 256,
   "metadata": {
    "collapsed": false
   },
   "outputs": [
    {
     "name": "stdout",
     "output_type": "stream",
     "text": [
      "decorator received function 'objective_function' \n",
      "with local variables: ('a', 'b', 'c', 'd')\n",
      "and arguments: ['a', 'b', 'c', 'd']\n",
      "Static variables are: [('a', 1), ('b', 2)]\n",
      "New input arguments for 'objective_function': ['c', 'd']\n",
      "1\n"
     ]
    }
   ],
   "source": [
    "staticvars = {'a':1, 'b':2}\n",
    "\n",
    "@decorator(staticvars)\n",
    "def objective_function(a, b, c, d):\n",
    "    return (a + b + c) ** d\n",
    "\n",
    "print objective_function(2, 2)"
   ]
  },
  {
   "cell_type": "markdown",
   "metadata": {},
   "source": [
    "Let us try to minimize f(a,b,c,d) using d as a free variable:"
   ]
  },
  {
   "cell_type": "code",
   "execution_count": 257,
   "metadata": {
    "collapsed": false
   },
   "outputs": [
    {
     "name": "stdout",
     "output_type": "stream",
     "text": [
      "decorator received function 'objective_function' \n",
      "with local variables: ('a', 'b', 'c', 'd')\n",
      "and arguments: ['a', 'b', 'c', 'd']\n",
      "Static variables are: [('a', 1), ('c', 10), ('b', 2)]\n",
      "New input arguments for 'objective_function': ['d']\n",
      "('wrapper_dynamic_var_names', 'all_variables')\n",
      "Optimization terminated successfully.\n",
      "         Current function value: 1.000000\n",
      "         Iterations: 24\n",
      "         Function evaluations: 71\n"
     ]
    }
   ],
   "source": [
    "import numpy as np\n",
    "from scipy.optimize import minimize\n",
    "\n",
    "def objective_function(a, b, c, d):\n",
    "    return (a + b + c) ** d\n",
    "\n",
    "staticvars = {'a':1, 'b':2, 'c':10}\n",
    "objective_function_var_d = decorator(staticvars)(objective_function)\n",
    "\n",
    "print objective_function_var_d.__code__.co_varnames\n",
    "\n",
    "d0 = np.array([1.3])\n",
    "res = minimize(objective_function_var_d, d0, method='nelder-mead',\n",
    "                options={'xtol': 1e-8, 'disp': True})"
   ]
  }
 ],
 "metadata": {
  "kernelspec": {
   "display_name": "Python 2",
   "language": "python",
   "name": "python2"
  },
  "language_info": {
   "codemirror_mode": {
    "name": "ipython",
    "version": 2
   },
   "file_extension": ".py",
   "mimetype": "text/x-python",
   "name": "python",
   "nbconvert_exporter": "python",
   "pygments_lexer": "ipython2",
   "version": "2.7.10"
  }
 },
 "nbformat": 4,
 "nbformat_minor": 0
}
